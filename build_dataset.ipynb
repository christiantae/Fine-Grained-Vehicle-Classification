{
 "cells": [
  {
   "cell_type": "code",
   "execution_count": 2,
   "metadata": {},
   "outputs": [],
   "source": [
    "import argparse\n",
    "import random\n",
    "import os\n",
    "import pandas as pd\n",
    "\n",
    "from sklearn.model_selection import train_test_split\n",
    "from PIL import Image\n",
    "from tqdm import tqdm"
   ]
  },
  {
   "cell_type": "code",
   "execution_count": 3,
   "metadata": {},
   "outputs": [],
   "source": [
    "SIZE = 227"
   ]
  },
  {
   "cell_type": "code",
   "execution_count": 4,
   "metadata": {},
   "outputs": [],
   "source": [
    "def crop_resize_and_save(filename, output_dir, bbox, size=SIZE):\n",
    "    \"\"\"Resize the image contained in `filename` and save it to the `output_dir`\"\"\"\n",
    "    image = Image.open(filename)\n",
    "    shape = image.size\n",
    "    x1 = max(bbox[0]-16, 0)\n",
    "    y1 = max(bbox[1] - 16, 0)\n",
    "    x2 = min(bbox[2] + 16, shape[0])\n",
    "    y2 = min(bbox[3] + 16, shape[1])\n",
    "    new_box = (x1, y1, x2, y2)\n",
    "    image = image.crop(box = new_box)\n",
    "    # Use bilinear interpolation instead of the default \"nearest neighbor\" method\n",
    "    image = image.resize((size, size), Image.BILINEAR)\n",
    "    image.save(os.path.join(output_dir, filename.split('/')[-1]))"
   ]
  },
  {
   "cell_type": "code",
   "execution_count": 1,
   "metadata": {},
   "outputs": [
    {
     "ename": "NameError",
     "evalue": "name 'pd' is not defined",
     "output_type": "error",
     "traceback": [
      "\u001b[0;31m---------------------------------------------------------------------------\u001b[0m",
      "\u001b[0;31mNameError\u001b[0m                                 Traceback (most recent call last)",
      "\u001b[0;32m<ipython-input-1-c449ea82b815>\u001b[0m in \u001b[0;36m<module>\u001b[0;34m\u001b[0m\n\u001b[1;32m      7\u001b[0m     \u001b[0;31m# Train/dev/test split\u001b[0m\u001b[0;34m\u001b[0m\u001b[0;34m\u001b[0m\u001b[0;34m\u001b[0m\u001b[0m\n\u001b[1;32m      8\u001b[0m     \u001b[0;31m# 70-15-15 stratified split by class\u001b[0m\u001b[0;34m\u001b[0m\u001b[0;34m\u001b[0m\u001b[0;34m\u001b[0m\u001b[0m\n\u001b[0;32m----> 9\u001b[0;31m     \u001b[0mannotations\u001b[0m \u001b[0;34m=\u001b[0m \u001b[0mpd\u001b[0m\u001b[0;34m.\u001b[0m\u001b[0mread_csv\u001b[0m\u001b[0;34m(\u001b[0m\u001b[0mos\u001b[0m\u001b[0;34m.\u001b[0m\u001b[0mpath\u001b[0m\u001b[0;34m.\u001b[0m\u001b[0mjoin\u001b[0m\u001b[0;34m(\u001b[0m\u001b[0mproject_dir\u001b[0m\u001b[0;34m,\u001b[0m\u001b[0;34m'full_annotations.csv'\u001b[0m\u001b[0;34m)\u001b[0m\u001b[0;34m,\u001b[0m \u001b[0mindex_col\u001b[0m \u001b[0;34m=\u001b[0m \u001b[0;36m0\u001b[0m\u001b[0;34m)\u001b[0m\u001b[0;34m\u001b[0m\u001b[0;34m\u001b[0m\u001b[0m\n\u001b[0m\u001b[1;32m     10\u001b[0m     \u001b[0mX\u001b[0m \u001b[0;34m=\u001b[0m \u001b[0mannotations\u001b[0m\u001b[0;34m[\u001b[0m\u001b[0;34m[\u001b[0m\u001b[0;34m'relative_im_path'\u001b[0m\u001b[0;34m,\u001b[0m \u001b[0;34m'bbox_x1'\u001b[0m\u001b[0;34m,\u001b[0m \u001b[0;34m'bbox_y1'\u001b[0m\u001b[0;34m,\u001b[0m \u001b[0;34m'bbox_x2'\u001b[0m\u001b[0;34m,\u001b[0m \u001b[0;34m'bbox_y2'\u001b[0m\u001b[0;34m]\u001b[0m\u001b[0;34m]\u001b[0m\u001b[0;34m\u001b[0m\u001b[0;34m\u001b[0m\u001b[0m\n\u001b[1;32m     11\u001b[0m     \u001b[0my\u001b[0m \u001b[0;34m=\u001b[0m \u001b[0mannotations\u001b[0m\u001b[0;34m[\u001b[0m\u001b[0;34m[\u001b[0m\u001b[0;34m'class'\u001b[0m\u001b[0;34m]\u001b[0m\u001b[0;34m]\u001b[0m\u001b[0;34m\u001b[0m\u001b[0;34m\u001b[0m\u001b[0m\n",
      "\u001b[0;31mNameError\u001b[0m: name 'pd' is not defined"
     ]
    }
   ],
   "source": [
    "if __name__ == '__main__':\n",
    "    # Define the data directories\n",
    "    project_dir = '~/Documents/Senior/CS230/CS-230-project/stanford-cars/'\n",
    "    data_dir = 'stanford-cars/'\n",
    "    output_dir = 'stanford-cars/car_ims_227/'\n",
    "    \n",
    "    # Train/dev/test split\n",
    "    # 70-15-15 stratified split by class\n",
    "    annotations = pd.read_csv(os.path.join(project_dir,'full_annotations.csv'), index_col = 0)\n",
    "    X = annotations[['relative_im_path', 'bbox_x1', 'bbox_y1', 'bbox_x2', 'bbox_y2']]\n",
    "    y = annotations[['class']]\n",
    "    \n",
    "    X_train, X_val, y_train, y_val = train_test_split(X, y, test_size=0.3, random_state=1, stratify = y)\n",
    "    X_dev, X_test, y_dev, y_test = train_test_split(X_val, y_val, test_size=0.5, random_state=1, stratify = y_val)\n",
    "    \n",
    "    train_filenames = list(X_train['relative_im_path'])\n",
    "    dev_filenames = list(X_dev['relative_im_path'])\n",
    "    test_filenames = list(X_test['relative_im_path'])\n",
    "    \n",
    "    filenames = {'train': train_filenames,'dev': dev_filenames,'test': test_filenames}\n",
    "    \n",
    "    if not os.path.exists(output_dir):\n",
    "        os.mkdir(output_dir)\n",
    "    else:\n",
    "        print(\"Warning: output dir {} already exists\".format(output_dir))\n",
    "\n",
    "    # Preprocess train, dev and test\n",
    "    for split in ['train', 'dev', 'test']:\n",
    "        output_dir_split = os.path.join(output_dir, '{}_cars'.format(split))\n",
    "        if not os.path.exists(output_dir_split):\n",
    "            os.mkdir(output_dir_split)\n",
    "        else:\n",
    "            print(\"Warning: dir {} already exists\".format(output_dir_split))\n",
    "\n",
    "        print(\"Processing {} data, saving preprocessed data to {}\".format(split, output_dir_split))\n",
    "        for filename in tqdm(filenames[split]):\n",
    "            new_filename = os.path.join(data_dir, filename)\n",
    "            row = annotations.loc[annotations['relative_im_path']==filename]\n",
    "            x1 = int(row['bbox_x1'])\n",
    "            y1 = int(row['bbox_y1'])\n",
    "            x2 = int(row['bbox_x2'])\n",
    "            y2 = int(row['bbox_y2'])\n",
    "            box = (x1, y1, x2, y2)\n",
    "            crop_resize_and_save(new_filename, output_dir_split, box, size=SIZE)\n",
    "\n",
    "    print(\"Done building dataset\")"
   ]
  }
 ],
 "metadata": {
  "kernelspec": {
   "display_name": "Python 3",
   "language": "python",
   "name": "python3"
  },
  "language_info": {
   "codemirror_mode": {
    "name": "ipython",
    "version": 3
   },
   "file_extension": ".py",
   "mimetype": "text/x-python",
   "name": "python",
   "nbconvert_exporter": "python",
   "pygments_lexer": "ipython3",
   "version": "3.7.1"
  }
 },
 "nbformat": 4,
 "nbformat_minor": 2
}
