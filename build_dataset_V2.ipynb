{
 "cells": [
  {
   "cell_type": "code",
   "execution_count": 18,
   "metadata": {},
   "outputs": [],
   "source": [
    "# Import required packages\n",
    "import argparse\n",
    "import random\n",
    "import os\n",
    "import pandas as pd\n",
    "import numpy as np\n",
    "\n",
    "from sklearn.model_selection import train_test_split\n",
    "from PIL import Image\n",
    "from tqdm import tqdm\n",
    "\n",
    "import argparse\n",
    "import random\n",
    "import os\n",
    "import pandas as pd\n",
    "import numpy as np\n",
    "\n",
    "from sklearn.model_selection import train_test_split\n",
    "from PIL import Image\n",
    "from tqdm import tqdm\n",
    "\n",
    "# Set output image size\n",
    "SIZE = 227"
   ]
  },
  {
   "cell_type": "code",
   "execution_count": 19,
   "metadata": {},
   "outputs": [],
   "source": [
    "# crops the image around its specified bounding box with 16 pixel padding in all directions\n",
    "def crop_and_resize(filename, bbox, size=SIZE):\n",
    "    \"\"\"Resize the image contained in `filename` and save it to the `output_dir`\"\"\"\n",
    "    image = Image.open(filename)\n",
    "    shape = image.size\n",
    "    x1 = max(bbox[0]-16, 0)\n",
    "    y1 = max(bbox[1] - 16, 0)\n",
    "    x2 = min(bbox[2] + 16, shape[0])\n",
    "    y2 = min(bbox[3] + 16, shape[1])\n",
    "    new_box = (x1, y1, x2, y2)\n",
    "    image = image.crop(box = new_box)\n",
    "    image = image.resize((size, size), Image.BILINEAR)\n",
    "    return np.asarray(image)"
   ]
  },
  {
   "cell_type": "code",
   "execution_count": 20,
   "metadata": {},
   "outputs": [
    {
     "name": "stderr",
     "output_type": "stream",
     "text": [
      "100%|██████████| 11329/11329 [06:33<00:00, 28.81it/s] \n",
      "100%|██████████| 2428/2428 [01:37<00:00, 24.81it/s]\n",
      "100%|██████████| 2428/2428 [01:31<00:00, 27.13it/s]\n"
     ]
    },
    {
     "name": "stdout",
     "output_type": "stream",
     "text": [
      "Done building dataset\n"
     ]
    }
   ],
   "source": [
    "# Define the data directories\n",
    "project_dir = '~/Documents/Senior/CS230/CS-230-project/stanford-cars/'\n",
    "data_dir = 'stanford-cars/'\n",
    "    \n",
    "# Read in data, select relevant columns\n",
    "annotations = pd.read_csv(os.path.join(project_dir,'full_annotations.csv'), index_col = 0)\n",
    "X = annotations[['relative_im_path', 'bbox_x1', 'bbox_y1', 'bbox_x2', 'bbox_y2']]\n",
    "y = annotations[['class']]\n",
    "    \n",
    "# Train/dev/test split\n",
    "# 70-15-15 stratified split by class\n",
    "X_train, X_val, y_train, y_val = train_test_split(X, y, test_size=0.3, random_state=1, stratify = y)\n",
    "X_dev, X_test, y_dev, y_test = train_test_split(X_val, y_val, test_size=0.5, random_state=1, stratify = y_val)\n",
    "    \n",
    "# List image filenames by train-dev-test split and compile them into a dictionary\n",
    "train_filenames = list(X_train['relative_im_path'])\n",
    "dev_filenames = list(X_dev['relative_im_path'])\n",
    "test_filenames = list(X_test['relative_im_path'])\n",
    "filenames = {'train': train_filenames,'dev': dev_filenames,'test': test_filenames}\n",
    "\n",
    "# Preprocess train, dev and test, save X and Y files for each group\n",
    "for split in ['train', 'dev', 'test']:\n",
    "    X = []\n",
    "    Y = []\n",
    "    for filename in tqdm(filenames[split]):\n",
    "        full_path = os.path.join(data_dir, filename)\n",
    "        row = annotations.loc[annotations['relative_im_path']==filename]\n",
    "        x1 = int(row['bbox_x1'])\n",
    "        y1 = int(row['bbox_y1'])\n",
    "        x2 = int(row['bbox_x2'])\n",
    "        y2 = int(row['bbox_y2'])\n",
    "        box = (x1, y1, x2, y2)\n",
    "        image = crop_and_resize(full_path, box, size=SIZE)\n",
    "        label = int(row['class'])\n",
    "        X.append(image.flatten())\n",
    "        Y.append(label)\n",
    "    X_filename = data_dir + 'X_' + split\n",
    "    Y_filename = data_dir + 'Y_' + split\n",
    "    np.save(X_filename, X)\n",
    "    np.save(Y_filename, Y)\n",
    "\n",
    "print(\"Done building dataset\")"
   ]
  }
 ],
 "metadata": {
  "kernelspec": {
   "display_name": "Python 3",
   "language": "python",
   "name": "python3"
  },
  "language_info": {
   "codemirror_mode": {
    "name": "ipython",
    "version": 3
   },
   "file_extension": ".py",
   "mimetype": "text/x-python",
   "name": "python",
   "nbconvert_exporter": "python",
   "pygments_lexer": "ipython3",
   "version": "3.7.1"
  }
 },
 "nbformat": 4,
 "nbformat_minor": 2
}
